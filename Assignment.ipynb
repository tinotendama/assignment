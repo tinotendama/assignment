{
  "nbformat": 4,
  "nbformat_minor": 0,
  "metadata": {
    "colab": {
      "name": "Assignment.ipynb",
      "provenance": [],
      "collapsed_sections": []
    },
    "kernelspec": {
      "name": "python3",
      "display_name": "Python 3"
    },
    "language_info": {
      "name": "python"
    }
  },
  "cells": [
    {
      "cell_type": "markdown",
      "source": [
        "::TINOTENDA MAKUNIKA R204566Q AND\n",
        "RAYMOND CHIRIRO R206948R"
      ],
      "metadata": {
        "id": "mzbTajiS1xQ3"
      }
    },
    {
      "cell_type": "code",
      "source": [
        "! pip install Streamlit"
      ],
      "metadata": {
        "colab": {
          "base_uri": "https://localhost:8080/"
        },
        "id": "6kVuRTILu5XV",
        "outputId": "0ed58019-ebbc-46e6-8e47-b2a3feb24936"
      },
      "execution_count": null,
      "outputs": [
        {
          "output_type": "stream",
          "name": "stdout",
          "text": [
            "Requirement already satisfied: Streamlit in /usr/local/lib/python3.7/dist-packages (1.8.1)\n",
            "Requirement already satisfied: semver in /usr/local/lib/python3.7/dist-packages (from Streamlit) (2.13.0)\n",
            "Requirement already satisfied: pillow>=6.2.0 in /usr/local/lib/python3.7/dist-packages (from Streamlit) (7.1.2)\n",
            "Requirement already satisfied: pympler>=0.9 in /usr/local/lib/python3.7/dist-packages (from Streamlit) (1.0.1)\n",
            "Requirement already satisfied: gitpython!=3.1.19 in /usr/local/lib/python3.7/dist-packages (from Streamlit) (3.1.27)\n",
            "Requirement already satisfied: requests in /usr/local/lib/python3.7/dist-packages (from Streamlit) (2.23.0)\n",
            "Requirement already satisfied: typing-extensions in /usr/local/lib/python3.7/dist-packages (from Streamlit) (3.10.0.2)\n",
            "Requirement already satisfied: validators in /usr/local/lib/python3.7/dist-packages (from Streamlit) (0.18.2)\n",
            "Requirement already satisfied: pandas>=0.21.0 in /usr/local/lib/python3.7/dist-packages (from Streamlit) (1.3.5)\n",
            "Requirement already satisfied: tornado>=5.0 in /usr/local/lib/python3.7/dist-packages (from Streamlit) (6.1)\n",
            "Requirement already satisfied: packaging in /usr/local/lib/python3.7/dist-packages (from Streamlit) (21.3)\n",
            "Requirement already satisfied: protobuf!=3.11,>=3.6.0 in /usr/local/lib/python3.7/dist-packages (from Streamlit) (3.17.3)\n",
            "Requirement already satisfied: python-dateutil in /usr/local/lib/python3.7/dist-packages (from Streamlit) (2.8.2)\n",
            "Requirement already satisfied: pydeck>=0.1.dev5 in /usr/local/lib/python3.7/dist-packages (from Streamlit) (0.7.1)\n",
            "Requirement already satisfied: toml in /usr/local/lib/python3.7/dist-packages (from Streamlit) (0.10.2)\n",
            "Requirement already satisfied: numpy in /usr/local/lib/python3.7/dist-packages (from Streamlit) (1.21.5)\n",
            "Requirement already satisfied: attrs in /usr/local/lib/python3.7/dist-packages (from Streamlit) (21.4.0)\n",
            "Requirement already satisfied: blinker in /usr/local/lib/python3.7/dist-packages (from Streamlit) (1.4)\n",
            "Requirement already satisfied: importlib-metadata>=1.4 in /usr/local/lib/python3.7/dist-packages (from Streamlit) (4.11.3)\n",
            "Requirement already satisfied: watchdog in /usr/local/lib/python3.7/dist-packages (from Streamlit) (2.1.7)\n",
            "Requirement already satisfied: pyarrow in /usr/local/lib/python3.7/dist-packages (from Streamlit) (6.0.1)\n",
            "Requirement already satisfied: tzlocal in /usr/local/lib/python3.7/dist-packages (from Streamlit) (1.5.1)\n",
            "Requirement already satisfied: click<8.1,>=7.0 in /usr/local/lib/python3.7/dist-packages (from Streamlit) (7.1.2)\n",
            "Requirement already satisfied: cachetools>=4.0 in /usr/local/lib/python3.7/dist-packages (from Streamlit) (4.2.4)\n",
            "Requirement already satisfied: altair>=3.2.0 in /usr/local/lib/python3.7/dist-packages (from Streamlit) (4.2.0)\n",
            "Requirement already satisfied: jsonschema>=3.0 in /usr/local/lib/python3.7/dist-packages (from altair>=3.2.0->Streamlit) (4.3.3)\n",
            "Requirement already satisfied: toolz in /usr/local/lib/python3.7/dist-packages (from altair>=3.2.0->Streamlit) (0.11.2)\n",
            "Requirement already satisfied: entrypoints in /usr/local/lib/python3.7/dist-packages (from altair>=3.2.0->Streamlit) (0.4)\n",
            "Requirement already satisfied: jinja2 in /usr/local/lib/python3.7/dist-packages (from altair>=3.2.0->Streamlit) (2.11.3)\n",
            "Requirement already satisfied: gitdb<5,>=4.0.1 in /usr/local/lib/python3.7/dist-packages (from gitpython!=3.1.19->Streamlit) (4.0.9)\n",
            "Requirement already satisfied: smmap<6,>=3.0.1 in /usr/local/lib/python3.7/dist-packages (from gitdb<5,>=4.0.1->gitpython!=3.1.19->Streamlit) (5.0.0)\n",
            "Requirement already satisfied: zipp>=0.5 in /usr/local/lib/python3.7/dist-packages (from importlib-metadata>=1.4->Streamlit) (3.7.0)\n",
            "Requirement already satisfied: importlib-resources>=1.4.0 in /usr/local/lib/python3.7/dist-packages (from jsonschema>=3.0->altair>=3.2.0->Streamlit) (5.4.0)\n",
            "Requirement already satisfied: pyrsistent!=0.17.0,!=0.17.1,!=0.17.2,>=0.14.0 in /usr/local/lib/python3.7/dist-packages (from jsonschema>=3.0->altair>=3.2.0->Streamlit) (0.18.1)\n",
            "Requirement already satisfied: pytz>=2017.3 in /usr/local/lib/python3.7/dist-packages (from pandas>=0.21.0->Streamlit) (2018.9)\n",
            "Requirement already satisfied: six>=1.9 in /usr/local/lib/python3.7/dist-packages (from protobuf!=3.11,>=3.6.0->Streamlit) (1.15.0)\n",
            "Requirement already satisfied: ipywidgets>=7.0.0 in /usr/local/lib/python3.7/dist-packages (from pydeck>=0.1.dev5->Streamlit) (7.7.0)\n",
            "Requirement already satisfied: ipykernel>=5.1.2 in /usr/local/lib/python3.7/dist-packages (from pydeck>=0.1.dev5->Streamlit) (6.13.0)\n",
            "Requirement already satisfied: traitlets>=4.3.2 in /usr/local/lib/python3.7/dist-packages (from pydeck>=0.1.dev5->Streamlit) (5.1.1)\n",
            "Requirement already satisfied: psutil in /usr/local/lib/python3.7/dist-packages (from ipykernel>=5.1.2->pydeck>=0.1.dev5->Streamlit) (5.4.8)\n",
            "Requirement already satisfied: matplotlib-inline>=0.1 in /usr/local/lib/python3.7/dist-packages (from ipykernel>=5.1.2->pydeck>=0.1.dev5->Streamlit) (0.1.3)\n",
            "Requirement already satisfied: debugpy>=1.0 in /usr/local/lib/python3.7/dist-packages (from ipykernel>=5.1.2->pydeck>=0.1.dev5->Streamlit) (1.0.0)\n",
            "Requirement already satisfied: jupyter-client>=6.1.12 in /usr/local/lib/python3.7/dist-packages (from ipykernel>=5.1.2->pydeck>=0.1.dev5->Streamlit) (7.2.2)\n",
            "Requirement already satisfied: nest-asyncio in /usr/local/lib/python3.7/dist-packages (from ipykernel>=5.1.2->pydeck>=0.1.dev5->Streamlit) (1.5.5)\n",
            "Requirement already satisfied: ipython>=7.23.1 in /usr/local/lib/python3.7/dist-packages (from ipykernel>=5.1.2->pydeck>=0.1.dev5->Streamlit) (7.32.0)\n",
            "Requirement already satisfied: pickleshare in /usr/local/lib/python3.7/dist-packages (from ipython>=7.23.1->ipykernel>=5.1.2->pydeck>=0.1.dev5->Streamlit) (0.7.5)\n",
            "Requirement already satisfied: setuptools>=18.5 in /usr/local/lib/python3.7/dist-packages (from ipython>=7.23.1->ipykernel>=5.1.2->pydeck>=0.1.dev5->Streamlit) (57.4.0)\n",
            "Requirement already satisfied: decorator in /usr/local/lib/python3.7/dist-packages (from ipython>=7.23.1->ipykernel>=5.1.2->pydeck>=0.1.dev5->Streamlit) (4.4.2)\n",
            "Requirement already satisfied: pexpect>4.3 in /usr/local/lib/python3.7/dist-packages (from ipython>=7.23.1->ipykernel>=5.1.2->pydeck>=0.1.dev5->Streamlit) (4.8.0)\n",
            "Requirement already satisfied: prompt-toolkit!=3.0.0,!=3.0.1,<3.1.0,>=2.0.0 in /usr/local/lib/python3.7/dist-packages (from ipython>=7.23.1->ipykernel>=5.1.2->pydeck>=0.1.dev5->Streamlit) (3.0.29)\n",
            "Requirement already satisfied: backcall in /usr/local/lib/python3.7/dist-packages (from ipython>=7.23.1->ipykernel>=5.1.2->pydeck>=0.1.dev5->Streamlit) (0.2.0)\n",
            "Requirement already satisfied: pygments in /usr/local/lib/python3.7/dist-packages (from ipython>=7.23.1->ipykernel>=5.1.2->pydeck>=0.1.dev5->Streamlit) (2.6.1)\n",
            "Requirement already satisfied: jedi>=0.16 in /usr/local/lib/python3.7/dist-packages (from ipython>=7.23.1->ipykernel>=5.1.2->pydeck>=0.1.dev5->Streamlit) (0.18.1)\n",
            "Requirement already satisfied: ipython-genutils~=0.2.0 in /usr/local/lib/python3.7/dist-packages (from ipywidgets>=7.0.0->pydeck>=0.1.dev5->Streamlit) (0.2.0)\n",
            "Requirement already satisfied: widgetsnbextension~=3.6.0 in /usr/local/lib/python3.7/dist-packages (from ipywidgets>=7.0.0->pydeck>=0.1.dev5->Streamlit) (3.6.0)\n",
            "Requirement already satisfied: jupyterlab-widgets>=1.0.0 in /usr/local/lib/python3.7/dist-packages (from ipywidgets>=7.0.0->pydeck>=0.1.dev5->Streamlit) (1.1.0)\n",
            "Requirement already satisfied: nbformat>=4.2.0 in /usr/local/lib/python3.7/dist-packages (from ipywidgets>=7.0.0->pydeck>=0.1.dev5->Streamlit) (5.2.0)\n",
            "Requirement already satisfied: parso<0.9.0,>=0.8.0 in /usr/local/lib/python3.7/dist-packages (from jedi>=0.16->ipython>=7.23.1->ipykernel>=5.1.2->pydeck>=0.1.dev5->Streamlit) (0.8.3)\n",
            "Requirement already satisfied: MarkupSafe>=0.23 in /usr/local/lib/python3.7/dist-packages (from jinja2->altair>=3.2.0->Streamlit) (2.0.1)\n",
            "Requirement already satisfied: pyzmq>=22.3 in /usr/local/lib/python3.7/dist-packages (from jupyter-client>=6.1.12->ipykernel>=5.1.2->pydeck>=0.1.dev5->Streamlit) (22.3.0)\n",
            "Requirement already satisfied: jupyter-core>=4.9.2 in /usr/local/lib/python3.7/dist-packages (from jupyter-client>=6.1.12->ipykernel>=5.1.2->pydeck>=0.1.dev5->Streamlit) (4.9.2)\n",
            "Requirement already satisfied: ptyprocess>=0.5 in /usr/local/lib/python3.7/dist-packages (from pexpect>4.3->ipython>=7.23.1->ipykernel>=5.1.2->pydeck>=0.1.dev5->Streamlit) (0.7.0)\n",
            "Requirement already satisfied: wcwidth in /usr/local/lib/python3.7/dist-packages (from prompt-toolkit!=3.0.0,!=3.0.1,<3.1.0,>=2.0.0->ipython>=7.23.1->ipykernel>=5.1.2->pydeck>=0.1.dev5->Streamlit) (0.2.5)\n",
            "Requirement already satisfied: notebook>=4.4.1 in /usr/local/lib/python3.7/dist-packages (from widgetsnbextension~=3.6.0->ipywidgets>=7.0.0->pydeck>=0.1.dev5->Streamlit) (5.3.1)\n",
            "Requirement already satisfied: nbconvert in /usr/local/lib/python3.7/dist-packages (from notebook>=4.4.1->widgetsnbextension~=3.6.0->ipywidgets>=7.0.0->pydeck>=0.1.dev5->Streamlit) (5.6.1)\n",
            "Requirement already satisfied: Send2Trash in /usr/local/lib/python3.7/dist-packages (from notebook>=4.4.1->widgetsnbextension~=3.6.0->ipywidgets>=7.0.0->pydeck>=0.1.dev5->Streamlit) (1.8.0)\n",
            "Requirement already satisfied: terminado>=0.8.1 in /usr/local/lib/python3.7/dist-packages (from notebook>=4.4.1->widgetsnbextension~=3.6.0->ipywidgets>=7.0.0->pydeck>=0.1.dev5->Streamlit) (0.13.3)\n",
            "Requirement already satisfied: defusedxml in /usr/local/lib/python3.7/dist-packages (from nbconvert->notebook>=4.4.1->widgetsnbextension~=3.6.0->ipywidgets>=7.0.0->pydeck>=0.1.dev5->Streamlit) (0.7.1)\n",
            "Requirement already satisfied: mistune<2,>=0.8.1 in /usr/local/lib/python3.7/dist-packages (from nbconvert->notebook>=4.4.1->widgetsnbextension~=3.6.0->ipywidgets>=7.0.0->pydeck>=0.1.dev5->Streamlit) (0.8.4)\n",
            "Requirement already satisfied: bleach in /usr/local/lib/python3.7/dist-packages (from nbconvert->notebook>=4.4.1->widgetsnbextension~=3.6.0->ipywidgets>=7.0.0->pydeck>=0.1.dev5->Streamlit) (4.1.0)\n",
            "Requirement already satisfied: testpath in /usr/local/lib/python3.7/dist-packages (from nbconvert->notebook>=4.4.1->widgetsnbextension~=3.6.0->ipywidgets>=7.0.0->pydeck>=0.1.dev5->Streamlit) (0.6.0)\n",
            "Requirement already satisfied: pandocfilters>=1.4.1 in /usr/local/lib/python3.7/dist-packages (from nbconvert->notebook>=4.4.1->widgetsnbextension~=3.6.0->ipywidgets>=7.0.0->pydeck>=0.1.dev5->Streamlit) (1.5.0)\n",
            "Requirement already satisfied: webencodings in /usr/local/lib/python3.7/dist-packages (from bleach->nbconvert->notebook>=4.4.1->widgetsnbextension~=3.6.0->ipywidgets>=7.0.0->pydeck>=0.1.dev5->Streamlit) (0.5.1)\n",
            "Requirement already satisfied: pyparsing!=3.0.5,>=2.0.2 in /usr/local/lib/python3.7/dist-packages (from packaging->Streamlit) (3.0.7)\n",
            "Requirement already satisfied: chardet<4,>=3.0.2 in /usr/local/lib/python3.7/dist-packages (from requests->Streamlit) (3.0.4)\n",
            "Requirement already satisfied: idna<3,>=2.5 in /usr/local/lib/python3.7/dist-packages (from requests->Streamlit) (2.10)\n",
            "Requirement already satisfied: certifi>=2017.4.17 in /usr/local/lib/python3.7/dist-packages (from requests->Streamlit) (2021.10.8)\n",
            "Requirement already satisfied: urllib3!=1.25.0,!=1.25.1,<1.26,>=1.21.1 in /usr/local/lib/python3.7/dist-packages (from requests->Streamlit) (1.24.3)\n"
          ]
        }
      ]
    },
    {
      "cell_type": "code",
      "source": [
        "%%writefile app.py\n",
        "import cv2\n",
        "import streamlit as st\n",
        "import sys\n",
        "import numpy as np\n",
        "import tensorflow as tf\n",
        "import os\n",
        "from tensorflow.keras import layers\n",
        "from tensorflow.keras import Model\n",
        "from os import getcwd\n",
        "from keras.models import load_model\n",
        "\n",
        "model = tf.keras.applications.inception_v3.InceptionV3(\n",
        "    include_top=True,\n",
        "    weights='imagenet',\n",
        "    input_tensor=None,\n",
        "    input_shape=None,\n",
        "    pooling=None,\n",
        "    classes=1000,\n",
        "    classifier_activation='softmax'\n",
        ")\n",
        "\n",
        "model.save('Model.h5')\n",
        "\n",
        "model= load_model('Model.h5',compile=(False))\n",
        "\n",
        "#Testining the model on a single frame\n",
        "#Preprocessg\n",
        "\n",
        "test = tf.io.read_file('/content/drive/MyDrive/frame/ants.jpg')\n",
        "test= tf.io.decode_image(test,channels=3)\n",
        "test= tf.image.resize(test,[299,299])\n",
        "test = tf.expand_dims(test, axis=0)\n",
        "test = tf.keras.applications.inception_v3.preprocess_input(test)\n",
        "\n",
        "#Predicting and Decoding the Predictions\n",
        "predictions = tf.keras.applications.inception_v3.decode_predictions(model.predict(test), top=1)\n",
        "\n",
        "for (i, (imagenetID, label, prob)) in enumerate(predictions[0]):\n",
        "    print(\"{}. {}: {:.2f}%\".format(i+1, label, prob*100))\n",
        "\n",
        "vid_cap = cv2.VideoCapture('muna.mp4')\n",
        "success, image=vid_cap.read()\n",
        "count = 0\n",
        "while success:\n",
        "    cv2.imwrite('frame%d.jpg'%count, image)\n",
        "success, image=vid_cap.read()\n",
        "print('read a new frame: ', success)\n",
        "count+=1\n",
        "\n",
        "\n",
        "def predict(frame, model):\n",
        "    # Pre-process the image for model prediction\n",
        "    img = cv2.resize(frame, (299, 299))\n",
        "    img = img.astype(np.float32)\n",
        "    img = np.expand_dims(img, axis=0)\n",
        "\n",
        "    img /= 255.0\n",
        "\n",
        "    # Predict with the Inceptionv3 model\n",
        "    prediction = model.predict(img)\n",
        "\n",
        "    # Convert the prediction into text\n",
        "    pred_text = tf.keras.applications.inception_v3.decode_predictions(prediction, top=1)\n",
        "    for (i, (imagenetID, label, prob)) in enumerate(pred_text[0]):\n",
        "        label  = (\"{}: {:.2f}%\".format(label, prob * 100))\n",
        "\n",
        "    st.markdown(label)\n",
        "\n",
        "def predict2(frame, model):\n",
        "    # Pre-process the image for model prediction\n",
        "    img = cv2.resize(frame, (290, 290))\n",
        "    img = img.astype(np.float32)\n",
        "    img = np.expand_dims(img, axis=0)\n",
        "\n",
        "    img /= 255.0\n",
        "\n",
        "    # Predict with the Inceptionv3 model\n",
        "    prediction = model.predict(img)\n",
        "\n",
        "    # Convert the prediction into text\n",
        "    pred_text = tf.keras.applications.inception_v3.decode_predictions(prediction, top=1)\n",
        "    for (i, (imagenetID, label, prob)) in enumerate(pred_text[0]):\n",
        "        pred_class = label\n",
        "       \n",
        "\n",
        "    return pred_class\n",
        "\n",
        "\n",
        "def object_detection(search_key,frame, model):\n",
        "    label = predict2(frame,model)\n",
        "    label = label.lower()\n",
        "    if label.find(search_key) > -1:\n",
        "        st.image(frame, caption=label)\n",
        "\n",
        "        return sys.exit()\n",
        "    else:\n",
        "        pass\n",
        "        #st.text('Not Found')\n",
        "        #return sys.exit()\n",
        "        \n",
        "\n",
        "# Main App\n",
        "def main():\n",
        "    \"\"\"Visualization\"\"\"\n",
        "    st.title(\"Object Detection \")\n",
        "    st.text(\"Built with Streamlit and Inceptionv3\")\n",
        "\n",
        "    activities = [\"Detect Objects\", \"About\"]\n",
        "    choice = st.sidebar.selectbox(\"Choose Activity\", activities)\n",
        "    \n",
        "    if choice == \"Detect Objects\":\n",
        "        st.subheader(\"Upload the video to detect\")\n",
        "\n",
        "        video_file = st.file_uploader(\"upload the video...\", type=[\"mp4\", \"avi\"])\n",
        "\n",
        "        if video_file is not None:\n",
        "            path = video_file.name\n",
        "            with open(path,mode='wb') as f: \n",
        "                f.write(video_file.read())         \n",
        "                st.success(\"Saved Video\")\n",
        "                video_file = open(path, \"rb\").read()\n",
        "                st.video(video_file)\n",
        "            cap = cv2.VideoCapture(path)\n",
        "            frame_width = int(cap.get(3))\n",
        "            frame_height = int(cap.get(4))\n",
        "\n",
        "            fourcc = cv2.VideoWriter_fourcc(*'XVID')\n",
        "            output = cv2.VideoWriter('output.mp4', fourcc, 20.0, (frame_width, frame_height))\n",
        "            \n",
        "            if st.button(\"Detect Objects\"):\n",
        "                \n",
        "                # Start the video prediction loop\n",
        "                while cap.isOpened():\n",
        "                    ret, frame = cap.read()\n",
        "    \n",
        "                    if not ret:\n",
        "                        break\n",
        "    \n",
        "                    \n",
        "                    # Perform object detection\n",
        "                    predict(frame, model)\n",
        "    \n",
        "                    # Display the resulting frame\n",
        "                    #st.image(frame, caption='Video Stream', use_column_width=True)\n",
        "    \n",
        "                cap.release()\n",
        "                output.release()\n",
        "                cv2.destroyAllWindows()\n",
        "                \n",
        "            key = st.text_input('Search key')\n",
        "            key = key.lower()\n",
        "            \n",
        "            if key is not None:\n",
        "            \n",
        "                if st.button(\"Search for the object\"):\n",
        "                    \n",
        "                    \n",
        "                    # Start the video prediction loop\n",
        "                    while cap.isOpened():\n",
        "                        ret, frame = cap.read()\n",
        "        \n",
        "                        if not ret:\n",
        "                            break\n",
        "        \n",
        "                        # Perform object detection\n",
        "                        object_detection(key,frame, model)\n",
        "                        \n",
        "        \n",
        "                        # Display the resulting frame\n",
        "                        #st.image(frame, caption='Video Stream', use_column_width=True)\n",
        "        \n",
        "                    cap.release()\n",
        "                    output.release()\n",
        "                    cv2.destroyAllWindows()\n",
        "\n",
        "    elif choice == \"About\":\n",
        "        st.subheader(\"By\")\n",
        "        st.text(\"TINOTENDA AND RAYMOND\")\n",
        "\n",
        "\n",
        "if __name__ == '__main__':\n",
        "    main()\n",
        "\n",
        "   \n",
        "\n"
      ],
      "metadata": {
        "colab": {
          "base_uri": "https://localhost:8080/"
        },
        "id": "0o6GLWARubyt",
        "outputId": "708db36a-3731-4331-cc56-80d853a8271d"
      },
      "execution_count": null,
      "outputs": [
        {
          "output_type": "stream",
          "name": "stdout",
          "text": [
            "Overwriting app.py\n"
          ]
        }
      ]
    },
    {
      "cell_type": "code",
      "source": [
        "!pip install pyngrok"
      ],
      "metadata": {
        "colab": {
          "base_uri": "https://localhost:8080/"
        },
        "id": "ahKKYbxPyuNg",
        "outputId": "86c3f3bd-9ad1-46c2-cd2e-fec1b821e0b8"
      },
      "execution_count": null,
      "outputs": [
        {
          "output_type": "stream",
          "name": "stdout",
          "text": [
            "Requirement already satisfied: pyngrok in /usr/local/lib/python3.7/dist-packages (5.1.0)\n",
            "Requirement already satisfied: PyYAML in /usr/local/lib/python3.7/dist-packages (from pyngrok) (3.13)\n"
          ]
        }
      ]
    },
    {
      "cell_type": "code",
      "source": [
        "from pyngrok import ngrok"
      ],
      "metadata": {
        "id": "DO9GczfUulVt"
      },
      "execution_count": null,
      "outputs": []
    },
    {
      "cell_type": "code",
      "source": [
        "!ngrok authtoken 27VuJAaBZpAYNheqIfX4dKR8782_3DfdsiRmoDoNgJKtPSCCN"
      ],
      "metadata": {
        "colab": {
          "base_uri": "https://localhost:8080/"
        },
        "id": "SbxpDugAzh5d",
        "outputId": "60cdffbf-eb75-47e2-8677-4eb2669aec14"
      },
      "execution_count": null,
      "outputs": [
        {
          "output_type": "stream",
          "name": "stdout",
          "text": [
            "Authtoken saved to configuration file: /root/.ngrok2/ngrok.yml\n"
          ]
        }
      ]
    },
    {
      "cell_type": "code",
      "source": [
        "!streamlit run --server.port 80 app.py&>/dev/null&"
      ],
      "metadata": {
        "id": "60FaH4R54QPk"
      },
      "execution_count": null,
      "outputs": []
    },
    {
      "cell_type": "code",
      "source": [
        "address = ngrok.connect(port=8502)"
      ],
      "metadata": {
        "id": "vV1OPqyV6Qq-"
      },
      "execution_count": null,
      "outputs": []
    },
    {
      "cell_type": "code",
      "source": [
        "address"
      ],
      "metadata": {
        "colab": {
          "base_uri": "https://localhost:8080/"
        },
        "id": "IL5d5zRl6cCk",
        "outputId": "f4cec9e2-fd59-49ee-9847-5a96549e4c52"
      },
      "execution_count": null,
      "outputs": [
        {
          "output_type": "execute_result",
          "data": {
            "text/plain": [
              "<NgrokTunnel: \"http://6447-35-192-175-33.ngrok.io\" -> \"http://localhost:80\">"
            ]
          },
          "metadata": {},
          "execution_count": 16
        }
      ]
    },
    {
      "cell_type": "code",
      "source": [
        "ngrok.kill()"
      ],
      "metadata": {
        "id": "GdE4kCzl6nQ1"
      },
      "execution_count": null,
      "outputs": []
    }
  ]
}